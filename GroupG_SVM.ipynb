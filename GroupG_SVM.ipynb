{
 "cells": [
  {
   "cell_type": "code",
   "execution_count": 1,
   "metadata": {},
   "outputs": [
    {
     "name": "stdout",
     "output_type": "stream",
     "text": [
      "Requirement already satisfied: pandas_datareader in c:\\users\\lijin\\anaconda3\\lib\\site-packages (0.8.1)\n",
      "Requirement already satisfied: requests>=2.3.0 in c:\\users\\lijin\\anaconda3\\lib\\site-packages (from pandas_datareader) (2.22.0)\n",
      "Requirement already satisfied: pandas>=0.21 in c:\\users\\lijin\\anaconda3\\lib\\site-packages (from pandas_datareader) (0.24.2)\n",
      "Requirement already satisfied: lxml in c:\\users\\lijin\\anaconda3\\lib\\site-packages (from pandas_datareader) (4.3.4)\n",
      "Requirement already satisfied: idna<2.9,>=2.5 in c:\\users\\lijin\\anaconda3\\lib\\site-packages (from requests>=2.3.0->pandas_datareader) (2.8)\n",
      "Requirement already satisfied: certifi>=2017.4.17 in c:\\users\\lijin\\anaconda3\\lib\\site-packages (from requests>=2.3.0->pandas_datareader) (2019.6.16)\n",
      "Requirement already satisfied: urllib3!=1.25.0,!=1.25.1,<1.26,>=1.21.1 in c:\\users\\lijin\\anaconda3\\lib\\site-packages (from requests>=2.3.0->pandas_datareader) (1.24.2)\n",
      "Requirement already satisfied: chardet<3.1.0,>=3.0.2 in c:\\users\\lijin\\anaconda3\\lib\\site-packages (from requests>=2.3.0->pandas_datareader) (3.0.4)\n",
      "Requirement already satisfied: pytz>=2011k in c:\\users\\lijin\\anaconda3\\lib\\site-packages (from pandas>=0.21->pandas_datareader) (2019.1)\n",
      "Requirement already satisfied: numpy>=1.12.0 in c:\\users\\lijin\\anaconda3\\lib\\site-packages (from pandas>=0.21->pandas_datareader) (1.16.4)\n",
      "Requirement already satisfied: python-dateutil>=2.5.0 in c:\\users\\lijin\\anaconda3\\lib\\site-packages (from pandas>=0.21->pandas_datareader) (2.8.0)\n",
      "Requirement already satisfied: six>=1.5 in c:\\users\\lijin\\anaconda3\\lib\\site-packages (from python-dateutil>=2.5.0->pandas>=0.21->pandas_datareader) (1.12.0)\n"
     ]
    }
   ],
   "source": [
    "import sys\n",
    "!{sys.executable} -m pip install pandas_datareader\n",
    "import pandas_datareader.data as pdd\n",
    "import datetime as dt\n",
    "\n",
    "from pylab import plot,show\n",
    "from numpy import vstack,array\n",
    "from numpy.random import rand\n",
    "import numpy as np\n",
    "import pandas as pd\n",
    "from math import sqrt\n",
    "from matplotlib import pyplot as plt\n",
    "%matplotlib inline"
   ]
  },
  {
   "cell_type": "code",
   "execution_count": 2,
   "metadata": {},
   "outputs": [],
   "source": [
    "start=dt.datetime(2009,11,1)\n",
    "end=dt.datetime(2019,11,27)\n",
    "\n",
    "lst=['AAPL','AMZN','MSFT','JPM','GOOGL','BA','LMT','WMT','C','IBM','MCO','UAL','BBY','BLK','NVDA','MCK','MRK','XOM','ORCL','NKE']\n",
    "dfdc={}\n",
    "\n",
    "for i in lst:\n",
    "    df=pdd.DataReader(i, \"quandl\",start,end,api_key='bxpKukDn_rGbG_ygvhgV')\n",
    "    df = df.reindex(index=df.index[::-1])\n",
    "    df.drop(df.loc[:, 'Open':'SplitRatio'].columns, inplace=True, axis = 1)\n",
    "    dfdc[i]=df"
   ]
  },
  {
   "cell_type": "code",
   "execution_count": 3,
   "metadata": {},
   "outputs": [
    {
     "name": "stdout",
     "output_type": "stream",
     "text": [
      "Requirement already up-to-date: ta in c:\\users\\lijin\\anaconda3\\lib\\site-packages (0.5.9)\n",
      "Requirement already satisfied, skipping upgrade: scikit-learn in c:\\users\\lijin\\anaconda3\\lib\\site-packages (from ta) (0.21.2)\n",
      "Requirement already satisfied, skipping upgrade: numpy in c:\\users\\lijin\\anaconda3\\lib\\site-packages (from ta) (1.16.4)\n",
      "Requirement already satisfied, skipping upgrade: pandas in c:\\users\\lijin\\anaconda3\\lib\\site-packages (from ta) (0.24.2)\n",
      "Requirement already satisfied, skipping upgrade: scipy>=0.17.0 in c:\\users\\lijin\\anaconda3\\lib\\site-packages (from scikit-learn->ta) (1.2.1)\n",
      "Requirement already satisfied, skipping upgrade: joblib>=0.11 in c:\\users\\lijin\\anaconda3\\lib\\site-packages (from scikit-learn->ta) (0.13.2)\n",
      "Requirement already satisfied, skipping upgrade: pytz>=2011k in c:\\users\\lijin\\anaconda3\\lib\\site-packages (from pandas->ta) (2019.1)\n",
      "Requirement already satisfied, skipping upgrade: python-dateutil>=2.5.0 in c:\\users\\lijin\\anaconda3\\lib\\site-packages (from pandas->ta) (2.8.0)\n",
      "Requirement already satisfied, skipping upgrade: six>=1.5 in c:\\users\\lijin\\anaconda3\\lib\\site-packages (from python-dateutil>=2.5.0->pandas->ta) (1.12.0)\n",
      "Note: you may need to restart the kernel to use updated packages.\n"
     ]
    }
   ],
   "source": [
    "pip install --upgrade ta"
   ]
  },
  {
   "cell_type": "code",
   "execution_count": 4,
   "metadata": {},
   "outputs": [],
   "source": [
    "import warnings\n",
    "warnings.filterwarnings('ignore')\n",
    "\n",
    "from ta import *\n",
    "\n",
    "lags = 5\n",
    "\n",
    "# Sets up the indicators\n",
    "\n",
    "for i in dfdc:\n",
    "    dfdc[i]['RSI']=momentum.rsi(dfdc[i]['AdjClose'])\n",
    "    dfdc[i]['ADX']=trend.adx(dfdc[i]['AdjHigh'], dfdc[i]['AdjLow'], dfdc[i]['AdjClose'])\n",
    "    dfdc[i]['PSAR_UP']=trend.psar_up(dfdc[i]['AdjHigh'], dfdc[i]['AdjLow'], dfdc[i]['AdjClose'])\n",
    "    dfdc[i]['PSAR_DOWN']=trend.psar_down(dfdc[i]['AdjHigh'], dfdc[i]['AdjLow'], dfdc[i]['AdjClose'])\n",
    "    dfdc[i]['EMA']=trend.ema_indicator(dfdc[i]['AdjClose'], n=5)\n",
    "    dfdc[i]['EMA_diff']=dfdc[i]['EMA']-dfdc[i]['AdjClose']\n",
    "    dfdc[i]['MACD']=trend.macd(dfdc[i]['AdjClose'])\n",
    "    dfdc[i]['ATR']=volatility.average_true_range(dfdc[i]['AdjHigh'], dfdc[i]['AdjLow'], dfdc[i]['AdjClose'])\n",
    "    dfdc[i]['SR']=momentum.stoch(dfdc[i]['AdjHigh'], dfdc[i]['AdjLow'], dfdc[i]['AdjClose'])\n",
    "    for k in range(0,lags):\n",
    "        dfdc[i]['RSI_' + str(k+1)] = dfdc[i]['RSI'].shift(k+1)\n",
    "        dfdc[i]['ADX_' + str(k+1)] = dfdc[i]['ADX'].shift(k+1)\n",
    "        dfdc[i]['PSAR_UP_' + str(k+1)] = dfdc[i]['PSAR_UP'].shift(k+1)\n",
    "        dfdc[i]['PSAR_DOWN_' + str(k+1)] = dfdc[i]['PSAR_DOWN'].shift(k+1)\n",
    "        dfdc[i]['EMA_diff_' + str(k+1)] = dfdc[i]['EMA_diff'].shift(k+1)\n",
    "        dfdc[i]['MACD_' + str(k+1)] = dfdc[i]['MACD'].shift(k+1)\n",
    "        dfdc[i]['ATR_' + str(k+1)] = dfdc[i]['ATR'].shift(k+1)\n",
    "        dfdc[i]['SR_' + str(k+1)] = dfdc[i]['SR'].shift(k+1)"
   ]
  },
  {
   "cell_type": "code",
   "execution_count": 5,
   "metadata": {},
   "outputs": [],
   "source": [
    "# Sets up what we are predicting and further cleans the data\n",
    "\n",
    "for i in dfdc:\n",
    "    dfdc[i]['Return'] = np.log(dfdc[i]['AdjClose'] / dfdc[i]['AdjClose'].shift(1))\n",
    "    dfdc[i]['UpTick']=np.where(dfdc[i]['Return']>0, 1, 0)   # 1 if up, 0 otherwise\n",
    "    dfdc[i] = dfdc[i].iloc[42:,]    # Remove all the data before Jan 1, 2010\n",
    "    dfdc[i].fillna(0, inplace=True)"
   ]
  },
  {
   "cell_type": "code",
   "execution_count": 6,
   "metadata": {},
   "outputs": [],
   "source": [
    "import seaborn as sns\n",
    "\n",
    "from sklearn.metrics import accuracy_score, recall_score, precision_score, f1_score\n",
    "from sklearn.metrics import confusion_matrix, classification_report\n",
    "from sklearn.metrics import precision_recall_curve, auc, average_precision_score\n",
    "from sklearn.preprocessing import MinMaxScaler"
   ]
  },
  {
   "cell_type": "code",
   "execution_count": 7,
   "metadata": {},
   "outputs": [],
   "source": [
    "# Splits and normalizes the data\n",
    "\n",
    "datasize = len(dfdc[lst[0]])\n",
    "trainsize = np.math.floor(0.8 * datasize)\n",
    "train={}\n",
    "test={}\n",
    "X_train={}\n",
    "X_test={}\n",
    "y_train={}\n",
    "y_test={}\n",
    "upfreq={}\n",
    "upfreq_dummy={}\n",
    "\n",
    "for i in dfdc:\n",
    "    train[i] = dfdc[i].iloc[:trainsize]\n",
    "    test[i] = dfdc[i].iloc[trainsize:datasize]\n",
    "    X_train[i] = train[i].filter(train[i].loc[:, 'RSI_1':'SR_5'].columns, axis = 1)\n",
    "    scaler = MinMaxScaler(feature_range=(-1,1))\n",
    "    scaler.fit(X_train[i])\n",
    "    X_train[i] = pd.DataFrame(scaler.transform(X_train[i]), index=X_train[i].index, columns=X_train[i].columns)\n",
    "    X_test[i] = test[i].filter(test[i].loc[:, 'RSI_1':'SR_5'].columns, axis = 1)\n",
    "    X_test[i] = pd.DataFrame(scaler.transform(X_test[i]), index=X_test[i].index, columns=X_test[i].columns)\n",
    "    y_train[i] = train[i][['UpTick']]\n",
    "    y_test[i] = test[i][['UpTick']]\n",
    "    upfreq[i] = np.mean(train[i]['UpTick'])\n",
    "    upfreq_dummy[i] = np.mean(test[i]['UpTick'])"
   ]
  },
  {
   "cell_type": "code",
   "execution_count": 8,
   "metadata": {},
   "outputs": [
    {
     "name": "stdout",
     "output_type": "stream",
     "text": [
      "[0.48642583 0.13475568 0.09845635 0.08069172 0.05892163 0.03169967\n",
      " 0.02509589 0.01703703 0.01429512 0.01120463]\n",
      "0.9585835408623813\n"
     ]
    }
   ],
   "source": [
    "from sklearn.decomposition import PCA as sklearnPCA\n",
    "\n",
    "X_train_PCA={}\n",
    "X_test_PCA={}\n",
    "n=10\n",
    "var_ratio=np.zeros((n, ))\n",
    "\n",
    "sklearn_pca = sklearnPCA(n_components=n)\n",
    "\n",
    "for i in dfdc:\n",
    "    X_train_PCA[i] = sklearn_pca.fit_transform(X_train[i])\n",
    "    X_test_PCA[i] = sklearn_pca.transform(X_test[i])\n",
    "    var_ratio = sklearn_pca.explained_variance_ratio_ + var_ratio\n",
    "\n",
    "var_ratio = var_ratio/len(lst)\n",
    "explained_total = np.sum(var_ratio)\n",
    "\n",
    "print(var_ratio)\n",
    "print(explained_total)"
   ]
  },
  {
   "cell_type": "code",
   "execution_count": 9,
   "metadata": {},
   "outputs": [
    {
     "name": "stdout",
     "output_type": "stream",
     "text": [
      "In the training data, stock goes up 51.49 % of the time\n"
     ]
    }
   ],
   "source": [
    "upfreq_df = pd.DataFrame.from_dict(upfreq, orient='index')\n",
    "mean_upfreq = np.mean(upfreq_df)\n",
    "print('In the training data, stock goes up %.2f' %(mean_upfreq*100), '% of the time')"
   ]
  },
  {
   "cell_type": "code",
   "execution_count": 10,
   "metadata": {},
   "outputs": [
    {
     "name": "stdout",
     "output_type": "stream",
     "text": [
      "The C value 0.0001 is checked.\n",
      "The C value 0.0003 is checked.\n",
      "The C value 0.001 is checked.\n",
      "The C value 0.003 is checked.\n",
      "The C value 0.01 is checked.\n",
      "The C value 0.03 is checked.\n",
      "The C value 0.1 is checked.\n",
      "The C value 0.3 is checked.\n",
      "The C value 1 is checked.\n",
      "The C value 3 is checked.\n",
      "The C value 10 is checked.\n",
      "The C value 30 is checked.\n",
      "The C value 100 is checked.\n",
      "The C value 300 is checked.\n",
      "The C value 1000 is checked.\n"
     ]
    }
   ],
   "source": [
    "from sklearn.svm import SVC\n",
    "y_pred={}\n",
    "acc={}\n",
    "perf={}\n",
    "acc_df={}\n",
    "mean_acc={}\n",
    "port_performance={}\n",
    "C_val = [0.0001, 0.0003, 0.001, 0.003, 0.01, 0.03, 0.1, 0.3, 1, 3, 10, 30, 100, 300, 1000]\n",
    "upfreq_test={}\n",
    "mean_upfreq_test={}\n",
    "cmt=np.zeros((2, 2))\n",
    "cmk={}\n",
    "\n",
    "# Grid search for optimal value of penalty parameter C\n",
    "\n",
    "for k in C_val:\n",
    "    \n",
    "    for i in dfdc:\n",
    "        clf = SVC(kernel='linear', C=k)\n",
    "        clf.fit(X_train_PCA[i], y_train[i])\n",
    "        y_pred[i] = clf.predict(X_test_PCA[i])\n",
    "        acc[i] = accuracy_score(y_test[i], y_pred[i])\n",
    "        test[i]['y_pred']=y_pred[i]\n",
    "        test[i]['correct']=2*(test[i]['UpTick']==test[i]['y_pred'])-1        # 1 if prediction is correct, -1 otherwise\n",
    "        test[i]['pct_change']=1+abs(test[i]['Return'])*test[i]['correct']    # strategy's performance each day\n",
    "        perf[i]=np.prod(test[i]['pct_change'])\n",
    "        upfreq_test[i] = np.mean(y_pred[i])\n",
    "        cm0 = (confusion_matrix(y_test[i], y_pred[i], labels=[1, 0], sample_weight=None) / len(test[lst[0]]) )*100\n",
    "        cmt = cmt + cm0\n",
    "    \n",
    "    print('The C value ' + str(k) + ' is checked.')   # Used to check the code is running properly\n",
    "    \n",
    "    # the code below is used for keeping track of the model's performance\n",
    "    \n",
    "    acc_df[k]=pd.DataFrame.from_dict(acc, orient='index')\n",
    "    mean_acc[k]=pd.DataFrame.mean(acc_df[k])*100\n",
    "    \n",
    "    perf_df=pd.DataFrame.from_dict(perf, orient='index')\n",
    "    port_performance[k]=(np.mean(perf_df)-1)*100\n",
    "    \n",
    "    upfreq_test_df = pd.DataFrame.from_dict(upfreq_test, orient='index')\n",
    "    mean_upfreq_test[k] = np.mean(upfreq_test_df)*100\n",
    "    \n",
    "    cmk[k] = cmt\n",
    "    cmt=np.zeros((2, 2))"
   ]
  },
  {
   "cell_type": "code",
   "execution_count": 11,
   "metadata": {},
   "outputs": [
    {
     "name": "stdout",
     "output_type": "stream",
     "text": [
      "In the test data, stock goes up 53.80 % of the time\n"
     ]
    }
   ],
   "source": [
    "upfreq_dummy_df = pd.DataFrame.from_dict(upfreq_dummy, orient='index')\n",
    "mean_upfreq_dummy = np.mean(upfreq_dummy_df)\n",
    "print('In the test data, stock goes up %.2f' %(mean_upfreq_dummy*100), '% of the time')"
   ]
  },
  {
   "cell_type": "code",
   "execution_count": 30,
   "metadata": {},
   "outputs": [
    {
     "data": {
      "text/html": [
       "<div>\n",
       "<style scoped>\n",
       "    .dataframe tbody tr th:only-of-type {\n",
       "        vertical-align: middle;\n",
       "    }\n",
       "\n",
       "    .dataframe tbody tr th {\n",
       "        vertical-align: top;\n",
       "    }\n",
       "\n",
       "    .dataframe thead th {\n",
       "        text-align: right;\n",
       "    }\n",
       "</style>\n",
       "<table border=\"1\" class=\"dataframe\">\n",
       "  <thead>\n",
       "    <tr style=\"text-align: right;\">\n",
       "      <th></th>\n",
       "      <th>Accuracy (%)</th>\n",
       "    </tr>\n",
       "  </thead>\n",
       "  <tbody>\n",
       "    <tr>\n",
       "      <th>0.0001</th>\n",
       "      <td>53.466184</td>\n",
       "    </tr>\n",
       "    <tr>\n",
       "      <th>0.0003</th>\n",
       "      <td>53.466184</td>\n",
       "    </tr>\n",
       "    <tr>\n",
       "      <th>0.0010</th>\n",
       "      <td>53.466184</td>\n",
       "    </tr>\n",
       "    <tr>\n",
       "      <th>0.0030</th>\n",
       "      <td>53.586957</td>\n",
       "    </tr>\n",
       "    <tr>\n",
       "      <th>0.0100</th>\n",
       "      <td>53.079710</td>\n",
       "    </tr>\n",
       "    <tr>\n",
       "      <th>0.0300</th>\n",
       "      <td>53.031401</td>\n",
       "    </tr>\n",
       "    <tr>\n",
       "      <th>0.1000</th>\n",
       "      <td>52.862319</td>\n",
       "    </tr>\n",
       "    <tr>\n",
       "      <th>0.3000</th>\n",
       "      <td>52.789855</td>\n",
       "    </tr>\n",
       "    <tr>\n",
       "      <th>1.0000</th>\n",
       "      <td>52.512077</td>\n",
       "    </tr>\n",
       "    <tr>\n",
       "      <th>3.0000</th>\n",
       "      <td>52.475845</td>\n",
       "    </tr>\n",
       "    <tr>\n",
       "      <th>10.0000</th>\n",
       "      <td>52.475845</td>\n",
       "    </tr>\n",
       "    <tr>\n",
       "      <th>30.0000</th>\n",
       "      <td>52.487923</td>\n",
       "    </tr>\n",
       "    <tr>\n",
       "      <th>100.0000</th>\n",
       "      <td>52.427536</td>\n",
       "    </tr>\n",
       "    <tr>\n",
       "      <th>300.0000</th>\n",
       "      <td>52.475845</td>\n",
       "    </tr>\n",
       "    <tr>\n",
       "      <th>1000.0000</th>\n",
       "      <td>52.355072</td>\n",
       "    </tr>\n",
       "  </tbody>\n",
       "</table>\n",
       "</div>"
      ],
      "text/plain": [
       "           Accuracy (%)\n",
       "0.0001        53.466184\n",
       "0.0003        53.466184\n",
       "0.0010        53.466184\n",
       "0.0030        53.586957\n",
       "0.0100        53.079710\n",
       "0.0300        53.031401\n",
       "0.1000        52.862319\n",
       "0.3000        52.789855\n",
       "1.0000        52.512077\n",
       "3.0000        52.475845\n",
       "10.0000       52.475845\n",
       "30.0000       52.487923\n",
       "100.0000      52.427536\n",
       "300.0000      52.475845\n",
       "1000.0000     52.355072"
      ]
     },
     "execution_count": 30,
     "metadata": {},
     "output_type": "execute_result"
    },
    {
     "data": {
      "image/png": "[encoded data removed]",
      "text/plain": [
       "<Figure size 720x432 with 1 Axes>"
      ]
     },
     "metadata": {
      "needs_background": "light"
     },
     "output_type": "display_data"
    }
   ],
   "source": [
    "# This checks how accurate the model's predictions are given different values for the penalty parameter C\n",
    "\n",
    "mean_acc_df = pd.DataFrame.from_dict(mean_acc, orient='index')\n",
    "mean_acc_df.columns = ['Accuracy (%)']\n",
    "mean_acc_df.plot(figsize = (10,6), legend=None)\n",
    "plt.xlabel('Penalty Parameter C', fontsize=22)\n",
    "plt.ylabel('Accuracy (%)', fontsize=22)\n",
    "plt.xscale(\"log\")\n",
    "mean_acc_df"
   ]
  },
  {
   "cell_type": "code",
   "execution_count": 31,
   "metadata": {},
   "outputs": [
    {
     "data": {
      "text/html": [
       "<div>\n",
       "<style scoped>\n",
       "    .dataframe tbody tr th:only-of-type {\n",
       "        vertical-align: middle;\n",
       "    }\n",
       "\n",
       "    .dataframe tbody tr th {\n",
       "        vertical-align: top;\n",
       "    }\n",
       "\n",
       "    .dataframe thead th {\n",
       "        text-align: right;\n",
       "    }\n",
       "</style>\n",
       "<table border=\"1\" class=\"dataframe\">\n",
       "  <thead>\n",
       "    <tr style=\"text-align: right;\">\n",
       "      <th></th>\n",
       "      <th>Portfolio Return (%)</th>\n",
       "    </tr>\n",
       "  </thead>\n",
       "  <tbody>\n",
       "    <tr>\n",
       "      <th>0.0001</th>\n",
       "      <td>49.878325</td>\n",
       "    </tr>\n",
       "    <tr>\n",
       "      <th>0.0003</th>\n",
       "      <td>49.878325</td>\n",
       "    </tr>\n",
       "    <tr>\n",
       "      <th>0.0010</th>\n",
       "      <td>49.878325</td>\n",
       "    </tr>\n",
       "    <tr>\n",
       "      <th>0.0030</th>\n",
       "      <td>49.566020</td>\n",
       "    </tr>\n",
       "    <tr>\n",
       "      <th>0.0100</th>\n",
       "      <td>43.491731</td>\n",
       "    </tr>\n",
       "    <tr>\n",
       "      <th>0.0300</th>\n",
       "      <td>39.490436</td>\n",
       "    </tr>\n",
       "    <tr>\n",
       "      <th>0.1000</th>\n",
       "      <td>36.804899</td>\n",
       "    </tr>\n",
       "    <tr>\n",
       "      <th>0.3000</th>\n",
       "      <td>39.329872</td>\n",
       "    </tr>\n",
       "    <tr>\n",
       "      <th>1.0000</th>\n",
       "      <td>34.893172</td>\n",
       "    </tr>\n",
       "    <tr>\n",
       "      <th>3.0000</th>\n",
       "      <td>34.874071</td>\n",
       "    </tr>\n",
       "    <tr>\n",
       "      <th>10.0000</th>\n",
       "      <td>34.614302</td>\n",
       "    </tr>\n",
       "    <tr>\n",
       "      <th>30.0000</th>\n",
       "      <td>34.619880</td>\n",
       "    </tr>\n",
       "    <tr>\n",
       "      <th>100.0000</th>\n",
       "      <td>34.483688</td>\n",
       "    </tr>\n",
       "    <tr>\n",
       "      <th>300.0000</th>\n",
       "      <td>34.740563</td>\n",
       "    </tr>\n",
       "    <tr>\n",
       "      <th>1000.0000</th>\n",
       "      <td>32.730354</td>\n",
       "    </tr>\n",
       "  </tbody>\n",
       "</table>\n",
       "</div>"
      ],
      "text/plain": [
       "           Portfolio Return (%)\n",
       "0.0001                49.878325\n",
       "0.0003                49.878325\n",
       "0.0010                49.878325\n",
       "0.0030                49.566020\n",
       "0.0100                43.491731\n",
       "0.0300                39.490436\n",
       "0.1000                36.804899\n",
       "0.3000                39.329872\n",
       "1.0000                34.893172\n",
       "3.0000                34.874071\n",
       "10.0000               34.614302\n",
       "30.0000               34.619880\n",
       "100.0000              34.483688\n",
       "300.0000              34.740563\n",
       "1000.0000             32.730354"
      ]
     },
     "execution_count": 31,
     "metadata": {},
     "output_type": "execute_result"
    },
    {
     "data": {
      "image/png": "[encoded data removed]",
      "text/plain": [
       "<Figure size 720x432 with 1 Axes>"
      ]
     },
     "metadata": {
      "needs_background": "light"
     },
     "output_type": "display_data"
    }
   ],
   "source": [
    "# This checks the strategy's total return over test period given different values for the penalty parameter C\n",
    "\n",
    "port_performance_df = pd.DataFrame.from_dict(port_performance, orient='index')\n",
    "port_performance_df.columns = ['Portfolio Return (%)']\n",
    "port_performance_df.plot(figsize = (10,6), legend=None)\n",
    "plt.xlabel('Penalty Parameter C', fontsize=18)\n",
    "plt.ylabel('Portfolio Return (%)', fontsize=18)\n",
    "plt.xscale(\"log\")\n",
    "port_performance_df"
   ]
  },
  {
   "cell_type": "code",
   "execution_count": 32,
   "metadata": {},
   "outputs": [
    {
     "data": {
      "text/html": [
       "<div>\n",
       "<style scoped>\n",
       "    .dataframe tbody tr th:only-of-type {\n",
       "        vertical-align: middle;\n",
       "    }\n",
       "\n",
       "    .dataframe tbody tr th {\n",
       "        vertical-align: top;\n",
       "    }\n",
       "\n",
       "    .dataframe thead th {\n",
       "        text-align: right;\n",
       "    }\n",
       "</style>\n",
       "<table border=\"1\" class=\"dataframe\">\n",
       "  <thead>\n",
       "    <tr style=\"text-align: right;\">\n",
       "      <th></th>\n",
       "      <th>Up Predictions (%)</th>\n",
       "    </tr>\n",
       "  </thead>\n",
       "  <tbody>\n",
       "    <tr>\n",
       "      <th>0.0001</th>\n",
       "      <td>90.000000</td>\n",
       "    </tr>\n",
       "    <tr>\n",
       "      <th>0.0003</th>\n",
       "      <td>90.000000</td>\n",
       "    </tr>\n",
       "    <tr>\n",
       "      <th>0.0010</th>\n",
       "      <td>90.000000</td>\n",
       "    </tr>\n",
       "    <tr>\n",
       "      <th>0.0030</th>\n",
       "      <td>82.753623</td>\n",
       "    </tr>\n",
       "    <tr>\n",
       "      <th>0.0100</th>\n",
       "      <td>75.966184</td>\n",
       "    </tr>\n",
       "    <tr>\n",
       "      <th>0.0300</th>\n",
       "      <td>71.545894</td>\n",
       "    </tr>\n",
       "    <tr>\n",
       "      <th>0.1000</th>\n",
       "      <td>68.019324</td>\n",
       "    </tr>\n",
       "    <tr>\n",
       "      <th>0.3000</th>\n",
       "      <td>65.410628</td>\n",
       "    </tr>\n",
       "    <tr>\n",
       "      <th>1.0000</th>\n",
       "      <td>63.756039</td>\n",
       "    </tr>\n",
       "    <tr>\n",
       "      <th>3.0000</th>\n",
       "      <td>63.792271</td>\n",
       "    </tr>\n",
       "    <tr>\n",
       "      <th>10.0000</th>\n",
       "      <td>63.816425</td>\n",
       "    </tr>\n",
       "    <tr>\n",
       "      <th>30.0000</th>\n",
       "      <td>63.756039</td>\n",
       "    </tr>\n",
       "    <tr>\n",
       "      <th>100.0000</th>\n",
       "      <td>63.768116</td>\n",
       "    </tr>\n",
       "    <tr>\n",
       "      <th>300.0000</th>\n",
       "      <td>63.792271</td>\n",
       "    </tr>\n",
       "    <tr>\n",
       "      <th>1000.0000</th>\n",
       "      <td>63.719807</td>\n",
       "    </tr>\n",
       "  </tbody>\n",
       "</table>\n",
       "</div>"
      ],
      "text/plain": [
       "           Up Predictions (%)\n",
       "0.0001              90.000000\n",
       "0.0003              90.000000\n",
       "0.0010              90.000000\n",
       "0.0030              82.753623\n",
       "0.0100              75.966184\n",
       "0.0300              71.545894\n",
       "0.1000              68.019324\n",
       "0.3000              65.410628\n",
       "1.0000              63.756039\n",
       "3.0000              63.792271\n",
       "10.0000             63.816425\n",
       "30.0000             63.756039\n",
       "100.0000            63.768116\n",
       "300.0000            63.792271\n",
       "1000.0000           63.719807"
      ]
     },
     "execution_count": 32,
     "metadata": {},
     "output_type": "execute_result"
    },
    {
     "data": {
      "image/png": "[encoded data removed]",
      "text/plain": [
       "<Figure size 720x432 with 1 Axes>"
      ]
     },
     "metadata": {
      "needs_background": "light"
     },
     "output_type": "display_data"
    }
   ],
   "source": [
    "# This checks the frequency the model predicts the stocks to go up given different values for the penalty parameter C\n",
    "\n",
    "mean_upfreq_test_df = pd.DataFrame.from_dict(mean_upfreq_test, orient='index')\n",
    "mean_upfreq_test_df.columns = ['Up Predictions (%)']\n",
    "mean_upfreq_test_df.plot(figsize = (10,6), legend=None)\n",
    "plt.xlabel('Penalty Parameter C', fontsize=18)\n",
    "plt.ylabel('Up Predictions (%)', fontsize=18)\n",
    "plt.xscale(\"log\")\n",
    "mean_upfreq_test_df"
   ]
  },
  {
   "cell_type": "code",
   "execution_count": 33,
   "metadata": {},
   "outputs": [
    {
     "name": "stdout",
     "output_type": "stream",
     "text": [
      "Accuracy of SVM model = 53.59%\n",
      "This strategy has a total return of 49.57 % of over 414 trading days\n",
      "That translates to an annualized return of 27.89 %\n"
     ]
    }
   ],
   "source": [
    "C_val0 = 0.003               # Change C_val0 to any C value to report performance\n",
    "\n",
    "print('Accuracy of SVM model = %.2f' %(mean_acc[C_val0]) + \"%\")\n",
    "print('This strategy has a total return of %.2f' %(port_performance[C_val0]), '% of over', len(test[lst[0]]), 'trading days')\n",
    "ann_performance=((port_performance[C_val0]/100+1)**(253/len(test[lst[0]]))-1)*100\n",
    "print('That translates to an annualized return of %.2f' %(ann_performance), '%')"
   ]
  },
  {
   "cell_type": "code",
   "execution_count": 34,
   "metadata": {},
   "outputs": [
    {
     "data": {
      "image/png": "[encoded data removed]",
      "text/plain": [
       "<Figure size 432x288 with 2 Axes>"
      ]
     },
     "metadata": {
      "needs_background": "light"
     },
     "output_type": "display_data"
    }
   ],
   "source": [
    "cm = cmk[C_val0]/len(lst)       # Change C_val0 to any C value to display confusion matrix for whole portfolio\n",
    "TP = cm[0][0]                                                                                          # True Positives\n",
    "FN = cm[0][1]                                                                                          # False Positives\n",
    "FP = cm[1][0]                                                                                          # True Negatives\n",
    "TN = cm[1][1]                                                                                          # False Negatives\n",
    "\n",
    "plt.figure(figsize=(6, 4))      # format the plot size\n",
    "ax = plt.subplot()\n",
    "sns.heatmap(cm, annot=True, ax = ax, fmt='g', cmap=\"Blues\")\n",
    "ax.set_xlabel('\\nPredicted labels'); ax.set_ylabel('True labels\\n')\n",
    "ax.xaxis.tick_top()\n",
    "ax.yaxis.set_ticklabels(['Up', 'Not Up'], fontsize=18)\n",
    "ax.xaxis.set_ticklabels(['Up', 'Not Up'], fontsize=18)\n",
    "plt.show()"
   ]
  },
  {
   "cell_type": "code",
   "execution_count": 35,
   "metadata": {},
   "outputs": [
    {
     "data": {
      "text/html": [
       "<div>\n",
       "<style scoped>\n",
       "    .dataframe tbody tr th:only-of-type {\n",
       "        vertical-align: middle;\n",
       "    }\n",
       "\n",
       "    .dataframe tbody tr th {\n",
       "        vertical-align: top;\n",
       "    }\n",
       "\n",
       "    .dataframe thead th {\n",
       "        text-align: right;\n",
       "    }\n",
       "</style>\n",
       "<table border=\"1\" class=\"dataframe\">\n",
       "  <thead>\n",
       "    <tr style=\"text-align: right;\">\n",
       "      <th></th>\n",
       "      <th>Accuracy (%)</th>\n",
       "    </tr>\n",
       "  </thead>\n",
       "  <tbody>\n",
       "    <tr>\n",
       "      <th>AAPL</th>\n",
       "      <td>0.528986</td>\n",
       "    </tr>\n",
       "    <tr>\n",
       "      <th>AMZN</th>\n",
       "      <td>0.567633</td>\n",
       "    </tr>\n",
       "    <tr>\n",
       "      <th>MSFT</th>\n",
       "      <td>0.548309</td>\n",
       "    </tr>\n",
       "    <tr>\n",
       "      <th>JPM</th>\n",
       "      <td>0.541063</td>\n",
       "    </tr>\n",
       "    <tr>\n",
       "      <th>GOOGL</th>\n",
       "      <td>0.538647</td>\n",
       "    </tr>\n",
       "    <tr>\n",
       "      <th>BA</th>\n",
       "      <td>0.591787</td>\n",
       "    </tr>\n",
       "    <tr>\n",
       "      <th>LMT</th>\n",
       "      <td>0.562802</td>\n",
       "    </tr>\n",
       "    <tr>\n",
       "      <th>WMT</th>\n",
       "      <td>0.560386</td>\n",
       "    </tr>\n",
       "    <tr>\n",
       "      <th>C</th>\n",
       "      <td>0.524155</td>\n",
       "    </tr>\n",
       "    <tr>\n",
       "      <th>IBM</th>\n",
       "      <td>0.514493</td>\n",
       "    </tr>\n",
       "    <tr>\n",
       "      <th>MCO</th>\n",
       "      <td>0.560386</td>\n",
       "    </tr>\n",
       "    <tr>\n",
       "      <th>UAL</th>\n",
       "      <td>0.478261</td>\n",
       "    </tr>\n",
       "    <tr>\n",
       "      <th>BBY</th>\n",
       "      <td>0.565217</td>\n",
       "    </tr>\n",
       "    <tr>\n",
       "      <th>BLK</th>\n",
       "      <td>0.516908</td>\n",
       "    </tr>\n",
       "    <tr>\n",
       "      <th>NVDA</th>\n",
       "      <td>0.555556</td>\n",
       "    </tr>\n",
       "    <tr>\n",
       "      <th>MCK</th>\n",
       "      <td>0.504831</td>\n",
       "    </tr>\n",
       "    <tr>\n",
       "      <th>MRK</th>\n",
       "      <td>0.533816</td>\n",
       "    </tr>\n",
       "    <tr>\n",
       "      <th>XOM</th>\n",
       "      <td>0.483092</td>\n",
       "    </tr>\n",
       "    <tr>\n",
       "      <th>ORCL</th>\n",
       "      <td>0.533816</td>\n",
       "    </tr>\n",
       "    <tr>\n",
       "      <th>NKE</th>\n",
       "      <td>0.507246</td>\n",
       "    </tr>\n",
       "  </tbody>\n",
       "</table>\n",
       "</div>"
      ],
      "text/plain": [
       "       Accuracy (%)\n",
       "AAPL       0.528986\n",
       "AMZN       0.567633\n",
       "MSFT       0.548309\n",
       "JPM        0.541063\n",
       "GOOGL      0.538647\n",
       "BA         0.591787\n",
       "LMT        0.562802\n",
       "WMT        0.560386\n",
       "C          0.524155\n",
       "IBM        0.514493\n",
       "MCO        0.560386\n",
       "UAL        0.478261\n",
       "BBY        0.565217\n",
       "BLK        0.516908\n",
       "NVDA       0.555556\n",
       "MCK        0.504831\n",
       "MRK        0.533816\n",
       "XOM        0.483092\n",
       "ORCL       0.533816\n",
       "NKE        0.507246"
      ]
     },
     "execution_count": 35,
     "metadata": {},
     "output_type": "execute_result"
    }
   ],
   "source": [
    "acc_df[C_val0].columns = ['Accuracy (%)']\n",
    "acc_df[C_val0]"
   ]
  },
  {
   "cell_type": "code",
   "execution_count": null,
   "metadata": {},
   "outputs": [],
   "source": []
  }
 ],
 "metadata": {
  "kernelspec": {
   "display_name": "Python 3",
   "language": "python",
   "name": "python3"
  },
  "language_info": {
   "codemirror_mode": {
    "name": "ipython",
    "version": 3
   },
   "file_extension": ".py",
   "mimetype": "text/x-python",
   "name": "python",
   "nbconvert_exporter": "python",
   "pygments_lexer": "ipython3",
   "version": "3.7.3"
  }
 },
 "nbformat": 4,
 "nbformat_minor": 2
}
